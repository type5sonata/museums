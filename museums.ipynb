{
 "cells": [
  {
   "cell_type": "code",
   "execution_count": 3,
   "id": "bc0a3ec9-729e-49e5-b56f-88bb2a3461da",
   "metadata": {},
   "outputs": [],
   "source": [
    "from bs4 import BeautifulSoup\n",
    "from urllib.request import Request, urlopen\n",
    "import re"
   ]
  },
  {
   "cell_type": "code",
   "execution_count": 8,
   "id": "150bfebf-69f4-49bc-a22e-3f9f4cc8ecfa",
   "metadata": {},
   "outputs": [],
   "source": [
    "url = 'https://www.museumslondon.org/free-museums-in-london'\n",
    "\n",
    "req = Request(url, headers={'User-Agent': 'Mozilla/5.0'})\n",
    "html_page = urlopen(req).read()\n",
    "\n",
    "soup = BeautifulSoup(html_page)"
   ]
  },
  {
   "cell_type": "code",
   "execution_count": 20,
   "id": "daa10a2c-9c9e-46dc-8e1b-c3e8e0e5f471",
   "metadata": {},
   "outputs": [],
   "source": [
    "museums=[]\n",
    "for museum in soup.find_all('h2'):\n",
    "    museums.append(museum.contents[0])"
   ]
  },
  {
   "cell_type": "code",
   "execution_count": 28,
   "id": "6fede24d-18ef-40c8-a9e8-8926487a47d3",
   "metadata": {},
   "outputs": [],
   "source": [
    "for i in museums:\n",
    "    with open('museums.txt', 'a') as f:\n",
    "        f.write(i+'\\n\\n')"
   ]
  },
  {
   "cell_type": "code",
   "execution_count": 23,
   "id": "88b0dcef-c709-4be2-8c29-378ee4e06777",
   "metadata": {},
   "outputs": [
    {
     "data": {
      "text/plain": [
       "92"
      ]
     },
     "execution_count": 23,
     "metadata": {},
     "output_type": "execute_result"
    }
   ],
   "source": [
    "len(museums)"
   ]
  },
  {
   "cell_type": "code",
   "execution_count": null,
   "id": "0fa9b5b3-ded8-4868-be53-16651ba0aac7",
   "metadata": {},
   "outputs": [],
   "source": []
  }
 ],
 "metadata": {
  "kernelspec": {
   "display_name": "Python 3 (ipykernel)",
   "language": "python",
   "name": "python3"
  },
  "language_info": {
   "codemirror_mode": {
    "name": "ipython",
    "version": 3
   },
   "file_extension": ".py",
   "mimetype": "text/x-python",
   "name": "python",
   "nbconvert_exporter": "python",
   "pygments_lexer": "ipython3",
   "version": "3.9.12"
  }
 },
 "nbformat": 4,
 "nbformat_minor": 5
}
